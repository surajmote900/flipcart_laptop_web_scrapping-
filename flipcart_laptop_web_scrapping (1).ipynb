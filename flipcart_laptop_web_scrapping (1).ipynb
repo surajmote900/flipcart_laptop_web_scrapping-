{
 "cells": [
  {
   "cell_type": "code",
   "execution_count": 1,
   "id": "1412a88c",
   "metadata": {},
   "outputs": [],
   "source": [
    "url = \"https://www.flipkart.com/lenovo-ideapad-3-core-i3-10th-gen-8-gb-256-gb-ssd-windows-11-home-15iml05-thin-light-laptop/p/itmd1871bfcde765?pid=COMG6AKVAHWTHAQG&lid=LSTCOMG6AKVAHWTHAQGXUICJF&marketplace=FLIPKART&q=lenovo+laptop&store=6bo%2Fb5g&srno=s_1_1&otracker=AS_QueryStore_OrganicAutoSuggest_1_7_na_na_na&otracker1=AS_QueryStore_OrganicAutoSuggest_1_7_na_na_na&fm=search-autosuggest&iid=04a7e7a6-7a61-41a8-816d-51ec8d14fc6e.COMG6AKVAHWTHAQG.SEARCH&ppt=clp&ppn=laptops-store&ssid=jew1e2gy0w0000001648368818116&qH=86f3cf6b571c1490\""
   ]
  },
  {
   "cell_type": "code",
   "execution_count": 2,
   "id": "fec02d08",
   "metadata": {},
   "outputs": [],
   "source": [
    "from bs4 import BeautifulSoup\n",
    "from requests import get"
   ]
  },
  {
   "cell_type": "code",
   "execution_count": 4,
   "id": "d7b4716b",
   "metadata": {},
   "outputs": [],
   "source": [
    "data=get(url)\n",
    "#data.content"
   ]
  },
  {
   "cell_type": "code",
   "execution_count": 5,
   "id": "a9033c67",
   "metadata": {},
   "outputs": [],
   "source": [
    "soup=BeautifulSoup(data.content)"
   ]
  },
  {
   "cell_type": "code",
   "execution_count": 7,
   "id": "5edd514b",
   "metadata": {},
   "outputs": [],
   "source": [
    "name=[]\n",
    "for i in soup.find_all(\"h1\"):\n",
    "       name.append(i.span.text)"
   ]
  },
  {
   "cell_type": "code",
   "execution_count": 12,
   "id": "2378f0f5",
   "metadata": {},
   "outputs": [
    {
     "data": {
      "text/plain": [
       "['Lenovo IdeaPad 3 Core i3 10th Gen - (8 GB/256 GB SSD/Windows 11 Home) 15IML05 Thin and Light Laptop\\xa0\\xa0(15.6 Inch, Platinum Grey, 1.7 kg, With MS Office)']"
      ]
     },
     "execution_count": 12,
     "metadata": {},
     "output_type": "execute_result"
    }
   ],
   "source": [
    "name"
   ]
  },
  {
   "cell_type": "code",
   "execution_count": 14,
   "id": "7492e911",
   "metadata": {},
   "outputs": [],
   "source": [
    "brand=[]\n",
    "brand.append(name[0][0:6])"
   ]
  },
  {
   "cell_type": "code",
   "execution_count": 15,
   "id": "1462dcec",
   "metadata": {},
   "outputs": [
    {
     "data": {
      "text/plain": [
       "['Lenovo']"
      ]
     },
     "execution_count": 15,
     "metadata": {},
     "output_type": "execute_result"
    }
   ],
   "source": [
    "brand"
   ]
  },
  {
   "cell_type": "code",
   "execution_count": 16,
   "id": "8257820d",
   "metadata": {},
   "outputs": [],
   "source": [
    "price=[]\n",
    "for i in soup.find_all(\"div\",class_=[\"_30jeq3 _16Jk6d\"]):\n",
    "    price.append(i.text)"
   ]
  },
  {
   "cell_type": "code",
   "execution_count": 17,
   "id": "10e079a0",
   "metadata": {},
   "outputs": [
    {
     "data": {
      "text/plain": [
       "['₹37,490']"
      ]
     },
     "execution_count": 17,
     "metadata": {},
     "output_type": "execute_result"
    }
   ],
   "source": [
    "price"
   ]
  },
  {
   "cell_type": "code",
   "execution_count": 22,
   "id": "82e03ab9",
   "metadata": {},
   "outputs": [],
   "source": [
    "Reviews=[]\n",
    "for i in soup.find_all(\"span\",class_=[\"_2_R_DZ\"]):\n",
    "    Reviews.append(i.text)"
   ]
  },
  {
   "cell_type": "code",
   "execution_count": 26,
   "id": "f07fa142",
   "metadata": {},
   "outputs": [
    {
     "data": {
      "text/plain": [
       "'237 Reviews'"
      ]
     },
     "execution_count": 26,
     "metadata": {},
     "output_type": "execute_result"
    }
   ],
   "source": [
    "Reviews[0][16:28]"
   ]
  },
  {
   "cell_type": "code",
   "execution_count": 27,
   "id": "46d84376",
   "metadata": {},
   "outputs": [
    {
     "data": {
      "text/plain": [
       "['Lenovo IdeaPad 3 Core i3 10th Gen - (8 GB/256 GB SSD/Windows 11 Home) 15IML05 Thin and Light Laptop\\xa0\\xa0(15.6 Inch, Platinum Grey, 1.7 kg, With MS Office)']"
      ]
     },
     "execution_count": 27,
     "metadata": {},
     "output_type": "execute_result"
    }
   ],
   "source": [
    "name"
   ]
  },
  {
   "cell_type": "code",
   "execution_count": 28,
   "id": "619772c4",
   "metadata": {},
   "outputs": [
    {
     "data": {
      "text/plain": [
       "['Lenovo']"
      ]
     },
     "execution_count": 28,
     "metadata": {},
     "output_type": "execute_result"
    }
   ],
   "source": [
    "brand"
   ]
  },
  {
   "cell_type": "code",
   "execution_count": 29,
   "id": "bdd6ba22",
   "metadata": {},
   "outputs": [
    {
     "data": {
      "text/plain": [
       "['₹37,490']"
      ]
     },
     "execution_count": 29,
     "metadata": {},
     "output_type": "execute_result"
    }
   ],
   "source": [
    "price"
   ]
  },
  {
   "cell_type": "code",
   "execution_count": null,
   "id": "ade28188",
   "metadata": {},
   "outputs": [],
   "source": []
  }
 ],
 "metadata": {
  "kernelspec": {
   "display_name": "Python 3",
   "language": "python",
   "name": "python3"
  },
  "language_info": {
   "codemirror_mode": {
    "name": "ipython",
    "version": 3
   },
   "file_extension": ".py",
   "mimetype": "text/x-python",
   "name": "python",
   "nbconvert_exporter": "python",
   "pygments_lexer": "ipython3",
   "version": "3.8.8"
  }
 },
 "nbformat": 4,
 "nbformat_minor": 5
}
